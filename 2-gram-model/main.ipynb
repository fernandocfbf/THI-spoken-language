{
 "cells": [
  {
   "cell_type": "code",
   "execution_count": 1,
   "metadata": {},
   "outputs": [],
   "source": [
    "from src.classes.PreProcess import PreProcess\n",
    "from src.classes.Tokenizer import Tokenizer\n",
    "from src.classes.NModelPredictor import NModelPredictor\n",
    "from src.classes.Metrics import Metrics\n",
    "\n",
    "from src.utils.database import read_txt_file\n",
    "from src.utils.format import prepare_text_for_predicion"
   ]
  },
  {
   "cell_type": "code",
   "execution_count": 2,
   "metadata": {},
   "outputs": [],
   "source": [
    "train = read_txt_file(\"wiki.train.raw\")\n",
    "test = read_txt_file(\"wiki.test.raw\")"
   ]
  },
  {
   "cell_type": "code",
   "execution_count": 3,
   "metadata": {},
   "outputs": [],
   "source": [
    "preprocess = PreProcess()\n",
    "train = preprocess.remove_punctuation(train)\n",
    "train = preprocess.remove_useless_information(train)\n",
    "train = preprocess.remove_stop_words(train)\n",
    "train = preprocess.lemmatize_word(train)"
   ]
  },
  {
   "cell_type": "code",
   "execution_count": 4,
   "metadata": {},
   "outputs": [],
   "source": [
    "test = preprocess.remove_punctuation(test)\n",
    "test= preprocess.remove_useless_information(test)\n",
    "test = preprocess.remove_stop_words(test)\n",
    "test = preprocess.lemmatize_word(test)"
   ]
  },
  {
   "cell_type": "code",
   "execution_count": 5,
   "metadata": {},
   "outputs": [
    {
     "name": "stderr",
     "output_type": "stream",
     "text": [
      "100%|██████████| 983660/983660 [00:00<00:00, 1053199.53it/s]\n",
      "100%|██████████| 983661/983661 [00:00<00:00, 1020837.33it/s]\n"
     ]
    }
   ],
   "source": [
    "back_off = NModelPredictor(n=2)\n",
    "back_off.fit(train)\n",
    "model = NModelPredictor(n=3)\n",
    "model.set_back_office_model(back_off)\n",
    "model.fit(train)"
   ]
  },
  {
   "cell_type": "code",
   "execution_count": 6,
   "metadata": {},
   "outputs": [],
   "source": [
    "x_test, y_test = prepare_text_for_predicion(test, 3)"
   ]
  },
  {
   "cell_type": "code",
   "execution_count": 7,
   "metadata": {},
   "outputs": [
    {
     "name": "stderr",
     "output_type": "stream",
     "text": [
      "100%|██████████| 116268/116268 [00:00<00:00, 755886.71it/s]\n"
     ]
    }
   ],
   "source": [
    "y_pred = model.predict(x_test)"
   ]
  },
  {
   "cell_type": "code",
   "execution_count": 8,
   "metadata": {},
   "outputs": [],
   "source": [
    "metrics = Metrics(y_pred=y_pred, y_true=y_test)"
   ]
  },
  {
   "cell_type": "code",
   "execution_count": 9,
   "metadata": {},
   "outputs": [
    {
     "name": "stdout",
     "output_type": "stream",
     "text": [
      "Acc: 0.02231912478067912\n"
     ]
    }
   ],
   "source": [
    "print(f\"Acc: {metrics.accuracy()}\")"
   ]
  }
 ],
 "metadata": {
  "kernelspec": {
   "display_name": "Python 3",
   "language": "python",
   "name": "python3"
  },
  "language_info": {
   "codemirror_mode": {
    "name": "ipython",
    "version": 3
   },
   "file_extension": ".py",
   "mimetype": "text/x-python",
   "name": "python",
   "nbconvert_exporter": "python",
   "pygments_lexer": "ipython3",
   "version": "3.10.6"
  },
  "orig_nbformat": 4,
  "vscode": {
   "interpreter": {
    "hash": "916dbcbb3f70747c44a77c7bcd40155683ae19c65e1c03b4aa3499c5328201f1"
   }
  }
 },
 "nbformat": 4,
 "nbformat_minor": 2
}
